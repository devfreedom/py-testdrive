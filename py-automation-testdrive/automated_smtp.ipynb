{
 "cells": [
  {
   "cell_type": "code",
   "execution_count": 6,
   "metadata": {},
   "outputs": [],
   "source": [
    "import smtplib, email, os\n",
    "import openpyxl, sys\n",
    "import time\n",
    "import random\n",
    "from io import StringIO\n",
    "\n",
    "from email import encoders\n",
    "from email.header import Header\n",
    "from email.mime.multipart import MIMEMultipart\n",
    "from email.mime.text import MIMEText\n",
    "from email.mime.image import MIMEImage\n",
    "from email.mime.base import MIMEBase\n",
    "#import email.mime.application\n"
   ]
  },
  {
   "cell_type": "code",
   "execution_count": 7,
   "metadata": {},
   "outputs": [
    {
     "ename": "FileNotFoundError",
     "evalue": "[Errno 2] No such file or directory: './email_list.xlsx'",
     "output_type": "error",
     "traceback": [
      "\u001b[0;31m---------------------------------------------------------------------------\u001b[0m",
      "\u001b[0;31mFileNotFoundError\u001b[0m                         Traceback (most recent call last)",
      "\u001b[1;32m/mnt/nvme0n1p7/Database Project/py-testdrive/py-automation-testdrive/automated_smtp.ipynb Cell 2\u001b[0m in \u001b[0;36m<cell line: 10>\u001b[0;34m()\u001b[0m\n\u001b[1;32m      <a href='vscode-notebook-cell:/mnt/nvme0n1p7/Database%20Project/py-testdrive/py-automation-testdrive/automated_smtp.ipynb#ch0000004?line=6'>7</a>\u001b[0m img_file \u001b[39m=\u001b[39m \u001b[39m\"\u001b[39m\u001b[39m./image.png\u001b[39m\u001b[39m\"\u001b[39m\n\u001b[1;32m      <a href='vscode-notebook-cell:/mnt/nvme0n1p7/Database%20Project/py-testdrive/py-automation-testdrive/automated_smtp.ipynb#ch0000004?line=8'>9</a>\u001b[0m \u001b[39m# Initiate openpyxl\u001b[39;00m\n\u001b[0;32m---> <a href='vscode-notebook-cell:/mnt/nvme0n1p7/Database%20Project/py-testdrive/py-automation-testdrive/automated_smtp.ipynb#ch0000004?line=9'>10</a>\u001b[0m wb \u001b[39m=\u001b[39m openpyxl\u001b[39m.\u001b[39;49mload_workbook(\u001b[39m\"\u001b[39;49m\u001b[39m./email_list.xlsx\u001b[39;49m\u001b[39m\"\u001b[39;49m)\n\u001b[1;32m     <a href='vscode-notebook-cell:/mnt/nvme0n1p7/Database%20Project/py-testdrive/py-automation-testdrive/automated_smtp.ipynb#ch0000004?line=10'>11</a>\u001b[0m sheet \u001b[39m=\u001b[39m wb[\u001b[39m\"\u001b[39m\u001b[39mSheet1\u001b[39m\u001b[39m\"\u001b[39m]\n\u001b[1;32m     <a href='vscode-notebook-cell:/mnt/nvme0n1p7/Database%20Project/py-testdrive/py-automation-testdrive/automated_smtp.ipynb#ch0000004?line=12'>13</a>\u001b[0m member_list \u001b[39m=\u001b[39m { }\n",
      "File \u001b[0;32m~/.local/lib/python3.10/site-packages/openpyxl/reader/excel.py:315\u001b[0m, in \u001b[0;36mload_workbook\u001b[0;34m(filename, read_only, keep_vba, data_only, keep_links)\u001b[0m\n\u001b[1;32m    288\u001b[0m \u001b[39mdef\u001b[39;00m \u001b[39mload_workbook\u001b[39m(filename, read_only\u001b[39m=\u001b[39m\u001b[39mFalse\u001b[39;00m, keep_vba\u001b[39m=\u001b[39mKEEP_VBA,\n\u001b[1;32m    289\u001b[0m                   data_only\u001b[39m=\u001b[39m\u001b[39mFalse\u001b[39;00m, keep_links\u001b[39m=\u001b[39m\u001b[39mTrue\u001b[39;00m):\n\u001b[1;32m    290\u001b[0m     \u001b[39m\"\"\"Open the given filename and return the workbook\u001b[39;00m\n\u001b[1;32m    291\u001b[0m \n\u001b[1;32m    292\u001b[0m \u001b[39m    :param filename: the path to open or a file-like object\u001b[39;00m\n\u001b[0;32m   (...)\u001b[0m\n\u001b[1;32m    313\u001b[0m \n\u001b[1;32m    314\u001b[0m \u001b[39m    \"\"\"\u001b[39;00m\n\u001b[0;32m--> 315\u001b[0m     reader \u001b[39m=\u001b[39m ExcelReader(filename, read_only, keep_vba,\n\u001b[1;32m    316\u001b[0m                         data_only, keep_links)\n\u001b[1;32m    317\u001b[0m     reader\u001b[39m.\u001b[39mread()\n\u001b[1;32m    318\u001b[0m     \u001b[39mreturn\u001b[39;00m reader\u001b[39m.\u001b[39mwb\n",
      "File \u001b[0;32m~/.local/lib/python3.10/site-packages/openpyxl/reader/excel.py:124\u001b[0m, in \u001b[0;36mExcelReader.__init__\u001b[0;34m(self, fn, read_only, keep_vba, data_only, keep_links)\u001b[0m\n\u001b[1;32m    122\u001b[0m \u001b[39mdef\u001b[39;00m \u001b[39m__init__\u001b[39m(\u001b[39mself\u001b[39m,  fn, read_only\u001b[39m=\u001b[39m\u001b[39mFalse\u001b[39;00m, keep_vba\u001b[39m=\u001b[39mKEEP_VBA,\n\u001b[1;32m    123\u001b[0m               data_only\u001b[39m=\u001b[39m\u001b[39mFalse\u001b[39;00m, keep_links\u001b[39m=\u001b[39m\u001b[39mTrue\u001b[39;00m):\n\u001b[0;32m--> 124\u001b[0m     \u001b[39mself\u001b[39m\u001b[39m.\u001b[39marchive \u001b[39m=\u001b[39m _validate_archive(fn)\n\u001b[1;32m    125\u001b[0m     \u001b[39mself\u001b[39m\u001b[39m.\u001b[39mvalid_files \u001b[39m=\u001b[39m \u001b[39mself\u001b[39m\u001b[39m.\u001b[39marchive\u001b[39m.\u001b[39mnamelist()\n\u001b[1;32m    126\u001b[0m     \u001b[39mself\u001b[39m\u001b[39m.\u001b[39mread_only \u001b[39m=\u001b[39m read_only\n",
      "File \u001b[0;32m~/.local/lib/python3.10/site-packages/openpyxl/reader/excel.py:96\u001b[0m, in \u001b[0;36m_validate_archive\u001b[0;34m(filename)\u001b[0m\n\u001b[1;32m     89\u001b[0m             msg \u001b[39m=\u001b[39m (\u001b[39m'\u001b[39m\u001b[39mopenpyxl does not support \u001b[39m\u001b[39m%s\u001b[39;00m\u001b[39m file format, \u001b[39m\u001b[39m'\u001b[39m\n\u001b[1;32m     90\u001b[0m                    \u001b[39m'\u001b[39m\u001b[39mplease check you can open \u001b[39m\u001b[39m'\u001b[39m\n\u001b[1;32m     91\u001b[0m                    \u001b[39m'\u001b[39m\u001b[39mit with Excel first. \u001b[39m\u001b[39m'\u001b[39m\n\u001b[1;32m     92\u001b[0m                    \u001b[39m'\u001b[39m\u001b[39mSupported formats are: \u001b[39m\u001b[39m%s\u001b[39;00m\u001b[39m'\u001b[39m) \u001b[39m%\u001b[39m (file_format,\n\u001b[1;32m     93\u001b[0m                                                    \u001b[39m'\u001b[39m\u001b[39m,\u001b[39m\u001b[39m'\u001b[39m\u001b[39m.\u001b[39mjoin(SUPPORTED_FORMATS))\n\u001b[1;32m     94\u001b[0m         \u001b[39mraise\u001b[39;00m InvalidFileException(msg)\n\u001b[0;32m---> 96\u001b[0m archive \u001b[39m=\u001b[39m ZipFile(filename, \u001b[39m'\u001b[39;49m\u001b[39mr\u001b[39;49m\u001b[39m'\u001b[39;49m)\n\u001b[1;32m     97\u001b[0m \u001b[39mreturn\u001b[39;00m archive\n",
      "File \u001b[0;32m/usr/lib/python3.10/zipfile.py:1249\u001b[0m, in \u001b[0;36mZipFile.__init__\u001b[0;34m(self, file, mode, compression, allowZip64, compresslevel, strict_timestamps)\u001b[0m\n\u001b[1;32m   1247\u001b[0m \u001b[39mwhile\u001b[39;00m \u001b[39mTrue\u001b[39;00m:\n\u001b[1;32m   1248\u001b[0m     \u001b[39mtry\u001b[39;00m:\n\u001b[0;32m-> 1249\u001b[0m         \u001b[39mself\u001b[39m\u001b[39m.\u001b[39mfp \u001b[39m=\u001b[39m io\u001b[39m.\u001b[39;49mopen(file, filemode)\n\u001b[1;32m   1250\u001b[0m     \u001b[39mexcept\u001b[39;00m \u001b[39mOSError\u001b[39;00m:\n\u001b[1;32m   1251\u001b[0m         \u001b[39mif\u001b[39;00m filemode \u001b[39min\u001b[39;00m modeDict:\n",
      "\u001b[0;31mFileNotFoundError\u001b[0m: [Errno 2] No such file or directory: './email_list.xlsx'"
     ]
    }
   ],
   "source": [
    "# Ask login credentials\n",
    "email_account = input(\"E-mail login credential / Account: \")\n",
    "email_password = input(\"E-mail login credential / Password: \")\n",
    "\n",
    "# Attachments\n",
    "text_file = \"./text.txt\"\n",
    "img_file = \"./image.png\"\n",
    "\n",
    "# Initiate openpyxl\n",
    "wb = openpyxl.load_workbook(\"./email_list.xlsx\")\n",
    "sheet = wb[\"Sheet1\"]\n",
    "\n",
    "member_list = { }\n",
    "\n",
    "# Make a members list\n",
    "for i in range(2, sheet.max_row + 1):\n",
    "    name = sheet.cell(row=i, column=1).value\n",
    "    email = sheet.cell(row=i, column=2).value\n",
    "    member_list[name] = email"
   ]
  },
  {
   "cell_type": "code",
   "execution_count": null,
   "metadata": {},
   "outputs": [],
   "source": [
    "# Establish SMTP connection, Gmail in this case\n",
    "smtp = smtplib.SMTP_SSL('smtp.gmail.com', 465)\n",
    "smtp.ehlo()\n",
    "smtp.login(email_account, email_password)\n",
    "\n",
    "iteration = 0\n",
    "complete_list = [ ]\n",
    "fail_list = [ ]\n",
    "\n",
    "# email_text.txt would look like below\n",
    "\n",
    "# To %s,\n",
    "# Your warranty has expired. Please contact the customer support."
   ]
  },
  {
   "cell_type": "code",
   "execution_count": null,
   "metadata": {},
   "outputs": [],
   "source": [
    "\n",
    "# Iterate e-mail delivery\n",
    "for name, email in member_list.items():\n",
    "    with open(\"./email_text.txt\") as email_text_file:\n",
    "        email_text = MIMEText(email_text_file.read() %name)\n",
    "\n",
    "    # Option 1: Attach text file    \n",
    "    filename_txt = text_file\n",
    "    payload_txt = MIMEBase('application', \"octet-stream\")\n",
    "    payload_txt.set_payload(open(filename_txt, \"rb\").read())\n",
    "    encoders.encode_base64(payload_txt)\n",
    "    payload_txt.add_header('Content-Disposition', \"attachment: filename= %s\" % os.path.basename(filename_txt))\n",
    "    content = MIMEMultipart()\n",
    "    content.attach(payload_txt)\n",
    "\n",
    "    # Option 2: Attach image file\n",
    "    filename_img = image_file\n",
    "    payload_img = MIMEBase('application', \"octet-stream\")\n",
    "    payload_img.set_payload(open(filename_img, \"rb\").read())\n",
    "    encoders.encode_base64(payload_img)\n",
    "    payload_img.add_header('Content-Disposition', \"attachment: filename= %s\" % os.path.basename(filename_img))\n",
    "\n",
    "    # Setup e-mail content structure\n",
    "    content = MIMEMultipart()\n",
    "    content.attach(payload_txt)\n",
    "    content.attach(payload_img)\n",
    "    content.attach(email_text)\n",
    "    content[\"Subject\"] = Header (s=\"Dear %s, there is an important message for you.\" %name, charset=\"utf-8\")\n",
    "    \n",
    "    s_time = time.time()\n",
    "    now = time.localtime()\n",
    "    mailStatus = smtp.sendmail('admin@email', email, msg.as_string())\n",
    "    time.sleep(random.randrange(3,7))\n",
    "    \n",
    "    print(\"Successfully sent an e-mail to %s \\n Current time: %s\" %(email, now))\n",
    "\n",
    "    complete_list.append(email)\n",
    "\n",
    "    interation += 1\n",
    "\n",
    "    if mailStatus != {}:\n",
    "        print(\"%s error has occured while sending an e-mail to %s\" %(email, mailStatus))\n"
   ]
  },
  {
   "cell_type": "code",
   "execution_count": null,
   "metadata": {},
   "outputs": [],
   "source": [
    "delivery_log = \"./email_log.txt\"\n",
    "\n",
    "f = open(delivery_log, 'a', encoding=\"UTF-8\")\n",
    "f.write(str(complete_list))\n",
    "f.close()\n",
    "\n",
    "print(\"Check the list of successful e-mail delivery at %s\" delivery_log)\n",
    "\n",
    "# Close SMTP connection\n",
    "smtp.quit()"
   ]
  }
 ],
 "metadata": {
  "kernelspec": {
   "display_name": "Python 3.10.4 64-bit",
   "language": "python",
   "name": "python3"
  },
  "language_info": {
   "codemirror_mode": {
    "name": "ipython",
    "version": 3
   },
   "file_extension": ".py",
   "mimetype": "text/x-python",
   "name": "python",
   "nbconvert_exporter": "python",
   "pygments_lexer": "ipython3",
   "version": "3.10.4"
  },
  "orig_nbformat": 4,
  "vscode": {
   "interpreter": {
    "hash": "31f2aee4e71d21fbe5cf8b01ff0e069b9275f58929596ceb00d14d90e3e16cd6"
   }
  }
 },
 "nbformat": 4,
 "nbformat_minor": 2
}
