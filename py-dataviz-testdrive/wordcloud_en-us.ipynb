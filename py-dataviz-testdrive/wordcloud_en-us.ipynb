{
 "cells": [
  {
   "cell_type": "code",
   "execution_count": null,
   "metadata": {},
   "outputs": [],
   "source": [
    "import nltk\n",
    "from nltk.corpus import brown\n",
    "from nltk.corpus import stopwords\n",
    "from nltk.tokenize import word_tokenize\n",
    "from nltk.tokenize import RegexpTokenizer\n",
    "from nltk.tokenize import WordPunctTokenizer\n",
    "from collections import Counter\n",
    "from wordcloud import WordCloud\n",
    "import matplotlib.pyplot as plt\n",
    "\n",
    "nltk.download('brown')\n",
    "nltk.download('stopwords')\n",
    "nltk.download('punkt')\n",
    "brown.words()"
   ]
  },
  {
   "cell_type": "code",
   "execution_count": null,
   "metadata": {},
   "outputs": [],
   "source": [
    "\n",
    "# Workflow: Sentences > Words > Word collection > Stats > Visualization\n",
    "\n",
    "# Prepare data\n",
    "data_ready = '''She will not be able to. But I hear the rumble of wheels. It is her carriage. Now carry out my orders to the letter. As he spoke the gleam of the side-lights of a carriage came round the curve of the avenue. It was a smart little landau which rattled up to the door of Briony Lodge. As it pulled up, one of the loafing men at the corner dashed forward to open the door in the hope of earning a copper, but was elbowed away by another loafer, who had rushed up with the same intention. A fierce quarrel broke out, which was increased by the two guardsmen, who took sides with one of the loungers, and by the scissors-grinder, who was equally hot upon the other side. A blow was struck, and in an instant the lady, who had stepped from her carriage, was the centre of a little knot of flushed and struggling men, who struck savagely at each other with their fists and sticks. Holmes dashed into the crowd to protect the lady; but just as he reached her he gave a cry and dropped to the ground, with the blood running freely down his face. At his fall the guardsmen took to their heels in one direction and the loungers in the other, while a number of better-dressed people, who had watched the scuffle without taking part in it, crowded in to help the lady and to attend to the injured man. Irene Adler, as I will still call her, had hurried up the steps; but she stood at the top with her superb figure outlined against the lights of the hall, looking back into the street. Is the poor gentleman much hurt? she asked. He is dead, cried several voices. No, no, there's life in him! shouted another. But he'll be gone before you can get him to hospital. He's a brave fellow, said a woman. They would have had the lady's purse and watch if it hadn't been for him. They were a gang, and a rough one, too. Ah, he's breathing now. He can't lie in the street. May we bring him in, marm? Surely. Bring him into the sitting-room. There is a comfortable sofa. This way, please! Slowly and solemnly he was borne into Briony Lodge and laid out in the principal room, while I still observed the proceedings from my post by the window. The lamps had been lit, but the blinds had not been drawn, so that I could see Holmes as he lay upon the couch. I do not know whether he was seized with compunction at that moment for the part he was playing, but I know that I never felt more heartily ashamed of myself in my life than when I saw the beautiful creature against whom I was conspiring, or the grace and kindliness with which she waited upon the injured man. And yet it would be the blackest treachery to Holmes to draw back now from the part which he had intrusted to me. I hardened my heart, and took the smoke-rocket from under my ulster. After all, I thought, we are not injuring her. We are but preventing her from injuring another. Holmes had sat up upon the couch, and I saw him motion like a man who is in need of air. A maid rushed across and threw open the window. At the same instant I saw him raise his hand and at the signal I tossed my rocket into the room with a cry of Fire! The word was no sooner out of my mouth than the whole crowd of spectators, well dressed and ill-gentlemen, ostlers, and servant-maids joined in a general shriek of Fire! Thick clouds of smoke curled through the room and out at the open window. I caught a glimpse of rushing figures, and a moment later the voice of Holmes from within assuring them that it was a false alarm. Slipping through the shouting crowd I made my way to the corner of the street, and in ten minutes was rejoiced to find my friend's arm in mine, and to get away from the scene of uproar. He walked swiftly and in silence for some few minutes until we had turned down one of the quiet streets which lead towards the Edgeware Road. You did it very nicely, Doctor, he remarked. Nothing could have been better. It is all right.'''\n",
    "\n",
    "# Option 1: Tokenize the data by default\n",
    "# data_tokenized = nltk.word_tokenize(data_ready)\n",
    "\n",
    "# Optinon 2: Use WordPunctTokenizer to tokenize considering contraction\n",
    "tokenizer = WordPunctTokenizer()\n",
    "data_tokenized = tokenizer.tokenize(data_ready)\n",
    "\n",
    "# Option 3: Use RegEx to retain abbreviated words\n",
    "'''\n",
    "tokenizer = RegexpTokenizer(\"[\\w']+\")\n",
    "tokenizer.tokenize()\n",
    "data_tokenized = tokenizer.tokenize(data_ready)\n",
    "'''\n",
    "\n",
    "# Use nltk.pos_tag to check each word class\n",
    "# data_wordclass = nltk.pos_tag(data_ready)"
   ]
  },
  {
   "cell_type": "code",
   "execution_count": null,
   "metadata": {},
   "outputs": [],
   "source": [
    "# Exclude obsolete words using 'nltk stopwords'\n",
    "'''\n",
    "data_filtered = [ each_word for each_word in data_tokenized \n",
    "                     if each_word not in stopwords.words() ]\n",
    "'''\n",
    "\n",
    "# Exclude additional obsolete words\n",
    "excluded_words = open('./excluded_words_en-us.txt').read()\n",
    "data_filtered = [ each_word for each_word in data_tokenized \n",
    "                    if each_word not in excluded_words ]\n",
    "\n",
    "# Exclude single character or long length words\n",
    "for i in range(0, len(data_filtered)):\n",
    "    if len(data_filtered[i]) >= 2 | len(data_filtered[i]) <= 10:\n",
    "        data_filtered.append(data_filtered[i])\n",
    "\n",
    "# Select top 100 words\n",
    "word_frequency = Counter(data_filtered)\n",
    "top100_words = word_frequency.most_common(100)\n",
    "top100_words_dict = dict(top100_words)\n",
    "\n",
    "# Display frequent words graph\n",
    "top100_words_graph = nltk.Text(data_filtered, name=\"Display frequent words\")\n",
    "top100_words_graph.plot(10)\n",
    "\n",
    "# Initiate Word Cloud\n",
    "wordcloud = WordCloud(font_path=\"/usr/share/fonts/opentype/noto/NotoSansCJK-Regular.ttc\", relative_scaling = 0.2, background_color='white').generate_from_frequencies(top100_words_dict)"
   ]
  },
  {
   "cell_type": "code",
   "execution_count": null,
   "metadata": {},
   "outputs": [],
   "source": [
    "# Prepare plot and render Word Cloud\n",
    "plt.figure(figsize=(10, 4))\n",
    "plt.imshow(wordcloud)\n",
    "plt.axis('on')\n",
    "plt.show()"
   ]
  }
 ],
 "metadata": {
  "kernelspec": {
   "display_name": "Python 3.10.4 64-bit",
   "language": "python",
   "name": "python3"
  },
  "language_info": {
   "codemirror_mode": {
    "name": "ipython",
    "version": 3
   },
   "file_extension": ".py",
   "mimetype": "text/x-python",
   "name": "python",
   "nbconvert_exporter": "python",
   "pygments_lexer": "ipython3",
   "version": "3.10.4"
  },
  "orig_nbformat": 4,
  "vscode": {
   "interpreter": {
    "hash": "31f2aee4e71d21fbe5cf8b01ff0e069b9275f58929596ceb00d14d90e3e16cd6"
   }
  }
 },
 "nbformat": 4,
 "nbformat_minor": 2
}
