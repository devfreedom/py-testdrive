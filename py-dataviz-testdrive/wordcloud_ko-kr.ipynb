{
 "cells": [
  {
   "cell_type": "code",
   "execution_count": 1,
   "metadata": {},
   "outputs": [],
   "source": [
    "import matplotlib.pyplot as plt\n",
    "import pandas as pd\n",
    "import numpy as np\n",
    "from matplotlib import font_manager, rc\n",
    "from collections import Counter\n",
    "from konlpy.tag import Kkma\n",
    "from wordcloud import WordCloud\n",
    "\n",
    "Kkma = Kkma()"
   ]
  },
  {
   "cell_type": "code",
   "execution_count": 2,
   "metadata": {},
   "outputs": [],
   "source": [
    "# Workflow: Sentences > Words > Word collection > Stats > Visualization\n",
    "\n",
    "# One-time use: Generate TXT from CSV\n",
    "\"\"\"\n",
    "data_csv = pd.read_csv('./dataset_visitkorea_20220908.csv', header=0, index_col=False)\n",
    "df = pd.DataFrame(data_csv)\n",
    "data_txt = df.to_csv('./dataset_visitkorea_20220908.txt', index=False, sep = ' ')\n",
    "\"\"\"\n",
    "\n",
    "data_ready = open(\"./dataset_visitkorea_20220908.txt\").read()\n",
    "data_nouns = Kkma.nouns(data_ready)\n",
    "data_morpheme = Counter(data_nouns)\n",
    "data_filtered = []"
   ]
  },
  {
   "cell_type": "code",
   "execution_count": null,
   "metadata": {},
   "outputs": [],
   "source": [
    "# Exclude obsolete words\n",
    "excluded_words = open('./excluded_words_ko-kr.txt').read()\n",
    "\n",
    "data_morpheme = [ each_word for each_word in data_nouns \n",
    "                    if each_word not in excluded_words ]\n",
    "\n",
    "\n",
    "# Exclude single character or long length words\n",
    "for i in range(0, len(data_morpheme)):\n",
    "    if len(data_morpheme[i]) >= 2 | len(data_morpheme[i]) <= 10:\n",
    "        data_filtered.append(data_morpheme[i])\n",
    "\n",
    "# Select top 100 words\n",
    "word_frequency = Counter(data_filtered)\n",
    "top100_words = word_frequency.most_common(100)\n",
    "top100_words_dict = dict(top100_words)\n",
    "\n",
    "# Initiate Word Cloud\n",
    "wordcloud = WordCloud(font_path=\"/usr/share/fonts/opentype/noto/NotoSansCJK-Regular.ttc\", relative_scaling = 0.2, background_color='white').generate_from_frequencies(top100_words_dict)"
   ]
  },
  {
   "cell_type": "code",
   "execution_count": null,
   "metadata": {},
   "outputs": [],
   "source": [
    "# Prepare plot and render Word Cloud\n",
    "plt.figure(figsize=(8, 4))\n",
    "plt.imshow(wordcloud)\n",
    "plt.axis('on')\n",
    "plt.show()"
   ]
  }
 ],
 "metadata": {
  "kernelspec": {
   "display_name": "Python 3.10.4 64-bit",
   "language": "python",
   "name": "python3"
  },
  "language_info": {
   "codemirror_mode": {
    "name": "ipython",
    "version": 3
   },
   "file_extension": ".py",
   "mimetype": "text/x-python",
   "name": "python",
   "nbconvert_exporter": "python",
   "pygments_lexer": "ipython3",
   "version": "3.10.4"
  },
  "orig_nbformat": 4,
  "vscode": {
   "interpreter": {
    "hash": "916dbcbb3f70747c44a77c7bcd40155683ae19c65e1c03b4aa3499c5328201f1"
   }
  }
 },
 "nbformat": 4,
 "nbformat_minor": 2
}
